{
 "cells": [
  {
   "cell_type": "code",
   "execution_count": 48,
   "metadata": {},
   "outputs": [
    {
     "ename": "ModuleNotFoundError",
     "evalue": "No module named 'plotnine'",
     "output_type": "error",
     "traceback": [
      "\u001b[1;31m---------------------------------------------------------------------------\u001b[0m",
      "\u001b[1;31mModuleNotFoundError\u001b[0m                       Traceback (most recent call last)",
      "\u001b[1;32m<ipython-input-48-2cba957636e8>\u001b[0m in \u001b[0;36m<module>\u001b[1;34m\u001b[0m\n\u001b[0;32m      1\u001b[0m \u001b[0mget_ipython\u001b[0m\u001b[1;33m(\u001b[0m\u001b[1;33m)\u001b[0m\u001b[1;33m.\u001b[0m\u001b[0mrun_line_magic\u001b[0m\u001b[1;33m(\u001b[0m\u001b[1;34m'matplotlib'\u001b[0m\u001b[1;33m,\u001b[0m \u001b[1;34m'inline'\u001b[0m\u001b[1;33m)\u001b[0m\u001b[1;33m\u001b[0m\u001b[1;33m\u001b[0m\u001b[0m\n\u001b[1;32m----> 2\u001b[1;33m \u001b[1;32mimport\u001b[0m \u001b[0mplotnine\u001b[0m \u001b[1;32mas\u001b[0m \u001b[0mp9\u001b[0m\u001b[1;33m\u001b[0m\u001b[1;33m\u001b[0m\u001b[0m\n\u001b[0m",
      "\u001b[1;31mModuleNotFoundError\u001b[0m: No module named 'plotnine'"
     ]
    }
   ],
   "source": [
    "%matplotlib inline\n",
    "import plotnine as p9"
   ]
  },
  {
   "cell_type": "code",
   "execution_count": null,
   "metadata": {},
   "outputs": [],
   "source": [
    "import pandas as pd\n",
    "\n",
    "surveys_complete = pd.read_csv('E:\\surveys.csv')\n",
    "surveys_complete = surveys_complete.dropna()"
   ]
  },
  {
   "cell_type": "code",
   "execution_count": null,
   "metadata": {},
   "outputs": [],
   "source": [
    "(p9.ggplot(data=surveys_complete))"
   ]
  },
  {
   "cell_type": "code",
   "execution_count": null,
   "metadata": {},
   "outputs": [],
   "source": [
    "(p9.ggplot(data=surveys_complete,\n",
    "           mapping=p9.aes(x='weight', y='hindfoot_length')))"
   ]
  },
  {
   "cell_type": "code",
   "execution_count": null,
   "metadata": {},
   "outputs": [],
   "source": [
    "(p9.ggplot(data=surveys_complete,\n",
    "           mapping=p9.aes(x='weight', y='hindfoot_length'))\n",
    "    + p9.geom_point()\n",
    ")"
   ]
  },
  {
   "cell_type": "code",
   "execution_count": 49,
   "metadata": {},
   "outputs": [
    {
     "ename": "NameError",
     "evalue": "name 'p9' is not defined",
     "output_type": "error",
     "traceback": [
      "\u001b[1;31m---------------------------------------------------------------------------\u001b[0m",
      "\u001b[1;31mNameError\u001b[0m                                 Traceback (most recent call last)",
      "\u001b[1;32m<ipython-input-49-5ce4c6f06a1b>\u001b[0m in \u001b[0;36m<module>\u001b[1;34m\u001b[0m\n\u001b[0;32m      1\u001b[0m \u001b[1;31m# Create\u001b[0m\u001b[1;33m\u001b[0m\u001b[1;33m\u001b[0m\u001b[1;33m\u001b[0m\u001b[0m\n\u001b[1;32m----> 2\u001b[1;33m surveys_plot = p9.ggplot(data=surveys_complete,\n\u001b[0m\u001b[0;32m      3\u001b[0m                          mapping=p9.aes(x='weight', y='hindfoot_length'))\n\u001b[0;32m      4\u001b[0m \u001b[1;33m\u001b[0m\u001b[0m\n\u001b[0;32m      5\u001b[0m \u001b[1;31m# Draw the plot\u001b[0m\u001b[1;33m\u001b[0m\u001b[1;33m\u001b[0m\u001b[1;33m\u001b[0m\u001b[0m\n",
      "\u001b[1;31mNameError\u001b[0m: name 'p9' is not defined"
     ]
    }
   ],
   "source": [
    "# Create\n",
    "surveys_plot = p9.ggplot(data=surveys_complete,\n",
    "                         mapping=p9.aes(x='weight', y='hindfoot_length'))\n",
    "\n",
    "# Draw the plot\n",
    "surveys_plot + p9.geom_point()"
   ]
  },
  {
   "cell_type": "code",
   "execution_count": 50,
   "metadata": {},
   "outputs": [
    {
     "ename": "NameError",
     "evalue": "name 'p9' is not defined",
     "output_type": "error",
     "traceback": [
      "\u001b[1;31m---------------------------------------------------------------------------\u001b[0m",
      "\u001b[1;31mNameError\u001b[0m                                 Traceback (most recent call last)",
      "\u001b[1;32m<ipython-input-50-8d699647ea45>\u001b[0m in \u001b[0;36m<module>\u001b[1;34m\u001b[0m\n\u001b[1;32m----> 1\u001b[1;33m (p9.ggplot(data=surveys_complete,\n\u001b[0m\u001b[0;32m      2\u001b[0m            mapping=p9.aes(x='weight', y='hindfoot_length'))\n\u001b[0;32m      3\u001b[0m     \u001b[1;33m+\u001b[0m \u001b[0mp9\u001b[0m\u001b[1;33m.\u001b[0m\u001b[0mgeom_point\u001b[0m\u001b[1;33m(\u001b[0m\u001b[1;33m)\u001b[0m\u001b[1;33m\u001b[0m\u001b[1;33m\u001b[0m\u001b[0m\n\u001b[0;32m      4\u001b[0m )\n",
      "\u001b[1;31mNameError\u001b[0m: name 'p9' is not defined"
     ]
    }
   ],
   "source": [
    "(p9.ggplot(data=surveys_complete,\n",
    "           mapping=p9.aes(x='weight', y='hindfoot_length'))\n",
    "    + p9.geom_point()\n",
    ")"
   ]
  },
  {
   "cell_type": "code",
   "execution_count": 51,
   "metadata": {},
   "outputs": [
    {
     "ename": "NameError",
     "evalue": "name 'p9' is not defined",
     "output_type": "error",
     "traceback": [
      "\u001b[1;31m---------------------------------------------------------------------------\u001b[0m",
      "\u001b[1;31mNameError\u001b[0m                                 Traceback (most recent call last)",
      "\u001b[1;32m<ipython-input-51-337ac8cab7c3>\u001b[0m in \u001b[0;36m<module>\u001b[1;34m\u001b[0m\n\u001b[1;32m----> 1\u001b[1;33m (p9.ggplot(data=surveys_complete,\n\u001b[0m\u001b[0;32m      2\u001b[0m            mapping=p9.aes(x='weight', y='hindfoot_length'))\n\u001b[0;32m      3\u001b[0m     \u001b[1;33m+\u001b[0m \u001b[0mp9\u001b[0m\u001b[1;33m.\u001b[0m\u001b[0mgeom_point\u001b[0m\u001b[1;33m(\u001b[0m\u001b[0malpha\u001b[0m\u001b[1;33m=\u001b[0m\u001b[1;36m0.1\u001b[0m\u001b[1;33m)\u001b[0m\u001b[1;33m\u001b[0m\u001b[1;33m\u001b[0m\u001b[0m\n\u001b[0;32m      4\u001b[0m )\n",
      "\u001b[1;31mNameError\u001b[0m: name 'p9' is not defined"
     ]
    }
   ],
   "source": [
    "(p9.ggplot(data=surveys_complete,\n",
    "           mapping=p9.aes(x='weight', y='hindfoot_length'))\n",
    "    + p9.geom_point(alpha=0.1)\n",
    ")"
   ]
  },
  {
   "cell_type": "code",
   "execution_count": 52,
   "metadata": {},
   "outputs": [
    {
     "ename": "NameError",
     "evalue": "name 'p9' is not defined",
     "output_type": "error",
     "traceback": [
      "\u001b[1;31m---------------------------------------------------------------------------\u001b[0m",
      "\u001b[1;31mNameError\u001b[0m                                 Traceback (most recent call last)",
      "\u001b[1;32m<ipython-input-52-3bfd64f7a972>\u001b[0m in \u001b[0;36m<module>\u001b[1;34m\u001b[0m\n\u001b[1;32m----> 1\u001b[1;33m (p9.ggplot(data=surveys_complete,\n\u001b[0m\u001b[0;32m      2\u001b[0m            mapping=p9.aes(x='weight', y='hindfoot_length'))\n\u001b[0;32m      3\u001b[0m     \u001b[1;33m+\u001b[0m \u001b[0mp9\u001b[0m\u001b[1;33m.\u001b[0m\u001b[0mgeom_point\u001b[0m\u001b[1;33m(\u001b[0m\u001b[0malpha\u001b[0m\u001b[1;33m=\u001b[0m\u001b[1;36m0.1\u001b[0m\u001b[1;33m,\u001b[0m \u001b[0mcolor\u001b[0m\u001b[1;33m=\u001b[0m\u001b[1;34m'blue'\u001b[0m\u001b[1;33m)\u001b[0m\u001b[1;33m\u001b[0m\u001b[1;33m\u001b[0m\u001b[0m\n\u001b[0;32m      4\u001b[0m )\n",
      "\u001b[1;31mNameError\u001b[0m: name 'p9' is not defined"
     ]
    }
   ],
   "source": [
    "(p9.ggplot(data=surveys_complete,\n",
    "           mapping=p9.aes(x='weight', y='hindfoot_length'))\n",
    "    + p9.geom_point(alpha=0.1, color='blue')\n",
    ")"
   ]
  },
  {
   "cell_type": "code",
   "execution_count": 53,
   "metadata": {},
   "outputs": [
    {
     "ename": "NameError",
     "evalue": "name 'p9' is not defined",
     "output_type": "error",
     "traceback": [
      "\u001b[1;31m---------------------------------------------------------------------------\u001b[0m",
      "\u001b[1;31mNameError\u001b[0m                                 Traceback (most recent call last)",
      "\u001b[1;32m<ipython-input-53-98aaf5d9415b>\u001b[0m in \u001b[0;36m<module>\u001b[1;34m\u001b[0m\n\u001b[1;32m----> 1\u001b[1;33m (p9.ggplot(data=surveys_complete,\n\u001b[0m\u001b[0;32m      2\u001b[0m            mapping=p9.aes(x='weight',\n\u001b[0;32m      3\u001b[0m                           \u001b[0my\u001b[0m\u001b[1;33m=\u001b[0m\u001b[1;34m'hindfoot_length'\u001b[0m\u001b[1;33m,\u001b[0m\u001b[1;33m\u001b[0m\u001b[1;33m\u001b[0m\u001b[0m\n\u001b[0;32m      4\u001b[0m                           color='species_id'))\n\u001b[0;32m      5\u001b[0m     \u001b[1;33m+\u001b[0m \u001b[0mp9\u001b[0m\u001b[1;33m.\u001b[0m\u001b[0mgeom_point\u001b[0m\u001b[1;33m(\u001b[0m\u001b[0malpha\u001b[0m\u001b[1;33m=\u001b[0m\u001b[1;36m0.1\u001b[0m\u001b[1;33m)\u001b[0m\u001b[1;33m\u001b[0m\u001b[1;33m\u001b[0m\u001b[0m\n",
      "\u001b[1;31mNameError\u001b[0m: name 'p9' is not defined"
     ]
    }
   ],
   "source": [
    "(p9.ggplot(data=surveys_complete,\n",
    "           mapping=p9.aes(x='weight',\n",
    "                          y='hindfoot_length',\n",
    "                          color='species_id'))\n",
    "    + p9.geom_point(alpha=0.1)\n",
    ")"
   ]
  },
  {
   "cell_type": "code",
   "execution_count": 54,
   "metadata": {},
   "outputs": [
    {
     "ename": "NameError",
     "evalue": "name 'p9' is not defined",
     "output_type": "error",
     "traceback": [
      "\u001b[1;31m---------------------------------------------------------------------------\u001b[0m",
      "\u001b[1;31mNameError\u001b[0m                                 Traceback (most recent call last)",
      "\u001b[1;32m<ipython-input-54-477b7634c30c>\u001b[0m in \u001b[0;36m<module>\u001b[1;34m\u001b[0m\n\u001b[0;32m      2\u001b[0m            mapping=p9.aes(x='weight', y='hindfoot_length', color='species_id'))\n\u001b[0;32m      3\u001b[0m     \u001b[1;33m+\u001b[0m \u001b[0mp9\u001b[0m\u001b[1;33m.\u001b[0m\u001b[0mgeom_point\u001b[0m\u001b[1;33m(\u001b[0m\u001b[0malpha\u001b[0m\u001b[1;33m=\u001b[0m\u001b[1;36m0.1\u001b[0m\u001b[1;33m)\u001b[0m\u001b[1;33m\u001b[0m\u001b[1;33m\u001b[0m\u001b[0m\n\u001b[1;32m----> 4\u001b[1;33m     \u001b[1;33m+\u001b[0m \u001b[0mp9\u001b[0m\u001b[1;33m.\u001b[0m\u001b[0mxlab\u001b[0m\u001b[1;33m(\u001b[0m\u001b[1;34m\"Weight (g)\"\u001b[0m\u001b[1;33m)\u001b[0m\u001b[1;33m\u001b[0m\u001b[1;33m\u001b[0m\u001b[0m\n\u001b[0m\u001b[0;32m      5\u001b[0m )\n",
      "\u001b[1;31mNameError\u001b[0m: name 'p9' is not defined"
     ]
    }
   ],
   "source": [
    "(p9.ggplot(data=surveys_complete,\n",
    "           mapping=p9.aes(x='weight', y='hindfoot_length', color='species_id'))\n",
    "    + p9.geom_point(alpha=0.1)\n",
    "    + p9.xlab(\"Weight (g)\")\n",
    ")"
   ]
  },
  {
   "cell_type": "code",
   "execution_count": 55,
   "metadata": {},
   "outputs": [
    {
     "ename": "NameError",
     "evalue": "name 'p9' is not defined",
     "output_type": "error",
     "traceback": [
      "\u001b[1;31m---------------------------------------------------------------------------\u001b[0m",
      "\u001b[1;31mNameError\u001b[0m                                 Traceback (most recent call last)",
      "\u001b[1;32m<ipython-input-55-c89aada52005>\u001b[0m in \u001b[0;36m<module>\u001b[1;34m\u001b[0m\n\u001b[0;32m      3\u001b[0m     \u001b[1;33m+\u001b[0m \u001b[0mp9\u001b[0m\u001b[1;33m.\u001b[0m\u001b[0mgeom_point\u001b[0m\u001b[1;33m(\u001b[0m\u001b[0malpha\u001b[0m\u001b[1;33m=\u001b[0m\u001b[1;36m0.1\u001b[0m\u001b[1;33m)\u001b[0m\u001b[1;33m\u001b[0m\u001b[1;33m\u001b[0m\u001b[0m\n\u001b[0;32m      4\u001b[0m     \u001b[1;33m+\u001b[0m \u001b[0mp9\u001b[0m\u001b[1;33m.\u001b[0m\u001b[0mxlab\u001b[0m\u001b[1;33m(\u001b[0m\u001b[1;34m\"Weight (g)\"\u001b[0m\u001b[1;33m)\u001b[0m\u001b[1;33m\u001b[0m\u001b[1;33m\u001b[0m\u001b[0m\n\u001b[1;32m----> 5\u001b[1;33m     \u001b[1;33m+\u001b[0m \u001b[0mp9\u001b[0m\u001b[1;33m.\u001b[0m\u001b[0mscale_x_log10\u001b[0m\u001b[1;33m(\u001b[0m\u001b[1;33m)\u001b[0m\u001b[1;33m\u001b[0m\u001b[1;33m\u001b[0m\u001b[0m\n\u001b[0m\u001b[0;32m      6\u001b[0m )\n",
      "\u001b[1;31mNameError\u001b[0m: name 'p9' is not defined"
     ]
    }
   ],
   "source": [
    "(p9.ggplot(data=surveys_complete,\n",
    "           mapping=p9.aes(x='weight', y='hindfoot_length', color='species_id'))\n",
    "    + p9.geom_point(alpha=0.1)\n",
    "    + p9.xlab(\"Weight (g)\")\n",
    "    + p9.scale_x_log10()\n",
    ")"
   ]
  },
  {
   "cell_type": "code",
   "execution_count": 56,
   "metadata": {},
   "outputs": [
    {
     "ename": "NameError",
     "evalue": "name 'p9' is not defined",
     "output_type": "error",
     "traceback": [
      "\u001b[1;31m---------------------------------------------------------------------------\u001b[0m",
      "\u001b[1;31mNameError\u001b[0m                                 Traceback (most recent call last)",
      "\u001b[1;32m<ipython-input-56-be9195fd1887>\u001b[0m in \u001b[0;36m<module>\u001b[1;34m\u001b[0m\n\u001b[0;32m      5\u001b[0m     \u001b[1;33m+\u001b[0m \u001b[0mp9\u001b[0m\u001b[1;33m.\u001b[0m\u001b[0mscale_x_log10\u001b[0m\u001b[1;33m(\u001b[0m\u001b[1;33m)\u001b[0m\u001b[1;33m\u001b[0m\u001b[1;33m\u001b[0m\u001b[0m\n\u001b[0;32m      6\u001b[0m     \u001b[1;33m+\u001b[0m \u001b[0mp9\u001b[0m\u001b[1;33m.\u001b[0m\u001b[0mtheme_bw\u001b[0m\u001b[1;33m(\u001b[0m\u001b[1;33m)\u001b[0m\u001b[1;33m\u001b[0m\u001b[1;33m\u001b[0m\u001b[0m\n\u001b[1;32m----> 7\u001b[1;33m     \u001b[1;33m+\u001b[0m \u001b[0mp9\u001b[0m\u001b[1;33m.\u001b[0m\u001b[0mtheme\u001b[0m\u001b[1;33m(\u001b[0m\u001b[0mtext\u001b[0m\u001b[1;33m=\u001b[0m\u001b[0mp9\u001b[0m\u001b[1;33m.\u001b[0m\u001b[0melement_text\u001b[0m\u001b[1;33m(\u001b[0m\u001b[0msize\u001b[0m\u001b[1;33m=\u001b[0m\u001b[1;36m16\u001b[0m\u001b[1;33m)\u001b[0m\u001b[1;33m)\u001b[0m\u001b[1;33m\u001b[0m\u001b[1;33m\u001b[0m\u001b[0m\n\u001b[0m\u001b[0;32m      8\u001b[0m )\n",
      "\u001b[1;31mNameError\u001b[0m: name 'p9' is not defined"
     ]
    }
   ],
   "source": [
    "(p9.ggplot(data=surveys_complete,\n",
    "           mapping=p9.aes(x='weight', y='hindfoot_length', color='species_id'))\n",
    "    + p9.geom_point(alpha=0.1)\n",
    "    + p9.xlab(\"Weight (g)\")\n",
    "    + p9.scale_x_log10()\n",
    "    + p9.theme_bw()\n",
    "    + p9.theme(text=p9.element_text(size=16))\n",
    ")"
   ]
  },
  {
   "cell_type": "code",
   "execution_count": 57,
   "metadata": {},
   "outputs": [
    {
     "ename": "NameError",
     "evalue": "name 'p9' is not defined",
     "output_type": "error",
     "traceback": [
      "\u001b[1;31m---------------------------------------------------------------------------\u001b[0m",
      "\u001b[1;31mNameError\u001b[0m                                 Traceback (most recent call last)",
      "\u001b[1;32m<ipython-input-57-be5e1c79a3cd>\u001b[0m in \u001b[0;36m<module>\u001b[1;34m\u001b[0m\n\u001b[1;32m----> 1\u001b[1;33m (p9.ggplot(data=surveys_complete,\n\u001b[0m\u001b[0;32m      2\u001b[0m            mapping=p9.aes(x='species_id',\n\u001b[0;32m      3\u001b[0m                           y='weight'))\n\u001b[0;32m      4\u001b[0m     \u001b[1;33m+\u001b[0m \u001b[0mp9\u001b[0m\u001b[1;33m.\u001b[0m\u001b[0mgeom_boxplot\u001b[0m\u001b[1;33m(\u001b[0m\u001b[1;33m)\u001b[0m\u001b[1;33m\u001b[0m\u001b[1;33m\u001b[0m\u001b[0m\n\u001b[0;32m      5\u001b[0m )\n",
      "\u001b[1;31mNameError\u001b[0m: name 'p9' is not defined"
     ]
    }
   ],
   "source": [
    "(p9.ggplot(data=surveys_complete,\n",
    "           mapping=p9.aes(x='species_id',\n",
    "                          y='weight'))\n",
    "    + p9.geom_boxplot()\n",
    ")"
   ]
  },
  {
   "cell_type": "code",
   "execution_count": 58,
   "metadata": {},
   "outputs": [
    {
     "ename": "NameError",
     "evalue": "name 'p9' is not defined",
     "output_type": "error",
     "traceback": [
      "\u001b[1;31m---------------------------------------------------------------------------\u001b[0m",
      "\u001b[1;31mNameError\u001b[0m                                 Traceback (most recent call last)",
      "\u001b[1;32m<ipython-input-58-27b1ca2d5375>\u001b[0m in \u001b[0;36m<module>\u001b[1;34m\u001b[0m\n\u001b[0;32m      3\u001b[0m                           y='weight'))\n\u001b[0;32m      4\u001b[0m     \u001b[1;33m+\u001b[0m \u001b[0mp9\u001b[0m\u001b[1;33m.\u001b[0m\u001b[0mgeom_jitter\u001b[0m\u001b[1;33m(\u001b[0m\u001b[0malpha\u001b[0m\u001b[1;33m=\u001b[0m\u001b[1;36m0.2\u001b[0m\u001b[1;33m)\u001b[0m\u001b[1;33m\u001b[0m\u001b[1;33m\u001b[0m\u001b[0m\n\u001b[1;32m----> 5\u001b[1;33m     \u001b[1;33m+\u001b[0m \u001b[0mp9\u001b[0m\u001b[1;33m.\u001b[0m\u001b[0mgeom_boxplot\u001b[0m\u001b[1;33m(\u001b[0m\u001b[0malpha\u001b[0m\u001b[1;33m=\u001b[0m\u001b[1;36m0.\u001b[0m\u001b[1;33m)\u001b[0m\u001b[1;33m\u001b[0m\u001b[1;33m\u001b[0m\u001b[0m\n\u001b[0m\u001b[0;32m      6\u001b[0m )\n",
      "\u001b[1;31mNameError\u001b[0m: name 'p9' is not defined"
     ]
    }
   ],
   "source": [
    "(p9.ggplot(data=surveys_complete,\n",
    "           mapping=p9.aes(x='species_id',\n",
    "                          y='weight'))\n",
    "    + p9.geom_jitter(alpha=0.2)\n",
    "    + p9.geom_boxplot(alpha=0.)\n",
    ")"
   ]
  },
  {
   "cell_type": "code",
   "execution_count": 59,
   "metadata": {},
   "outputs": [
    {
     "data": {
      "text/plain": [
       "year  species_id\n",
       "1977  DM            181\n",
       "      DO             12\n",
       "      DS             29\n",
       "      OL              1\n",
       "      OX              2\n",
       "                   ... \n",
       "2002  PP            375\n",
       "      RM             20\n",
       "      RO              7\n",
       "      SF              5\n",
       "      SH              9\n",
       "Name: species_id, Length: 332, dtype: int64"
      ]
     },
     "execution_count": 59,
     "metadata": {},
     "output_type": "execute_result"
    }
   ],
   "source": [
    "yearly_counts = surveys_complete.groupby(['year', 'species_id'])['species_id'].count()\n",
    "yearly_counts"
   ]
  },
  {
   "cell_type": "code",
   "execution_count": 60,
   "metadata": {},
   "outputs": [
    {
     "data": {
      "text/html": [
       "<div>\n",
       "<style scoped>\n",
       "    .dataframe tbody tr th:only-of-type {\n",
       "        vertical-align: middle;\n",
       "    }\n",
       "\n",
       "    .dataframe tbody tr th {\n",
       "        vertical-align: top;\n",
       "    }\n",
       "\n",
       "    .dataframe thead th {\n",
       "        text-align: right;\n",
       "    }\n",
       "</style>\n",
       "<table border=\"1\" class=\"dataframe\">\n",
       "  <thead>\n",
       "    <tr style=\"text-align: right;\">\n",
       "      <th></th>\n",
       "      <th>year</th>\n",
       "      <th>species_id</th>\n",
       "      <th>counts</th>\n",
       "    </tr>\n",
       "  </thead>\n",
       "  <tbody>\n",
       "    <tr>\n",
       "      <td>0</td>\n",
       "      <td>1977</td>\n",
       "      <td>DM</td>\n",
       "      <td>181</td>\n",
       "    </tr>\n",
       "    <tr>\n",
       "      <td>1</td>\n",
       "      <td>1977</td>\n",
       "      <td>DO</td>\n",
       "      <td>12</td>\n",
       "    </tr>\n",
       "    <tr>\n",
       "      <td>2</td>\n",
       "      <td>1977</td>\n",
       "      <td>DS</td>\n",
       "      <td>29</td>\n",
       "    </tr>\n",
       "    <tr>\n",
       "      <td>3</td>\n",
       "      <td>1977</td>\n",
       "      <td>OL</td>\n",
       "      <td>1</td>\n",
       "    </tr>\n",
       "    <tr>\n",
       "      <td>4</td>\n",
       "      <td>1977</td>\n",
       "      <td>OX</td>\n",
       "      <td>2</td>\n",
       "    </tr>\n",
       "    <tr>\n",
       "      <td>...</td>\n",
       "      <td>...</td>\n",
       "      <td>...</td>\n",
       "      <td>...</td>\n",
       "    </tr>\n",
       "    <tr>\n",
       "      <td>327</td>\n",
       "      <td>2002</td>\n",
       "      <td>PP</td>\n",
       "      <td>375</td>\n",
       "    </tr>\n",
       "    <tr>\n",
       "      <td>328</td>\n",
       "      <td>2002</td>\n",
       "      <td>RM</td>\n",
       "      <td>20</td>\n",
       "    </tr>\n",
       "    <tr>\n",
       "      <td>329</td>\n",
       "      <td>2002</td>\n",
       "      <td>RO</td>\n",
       "      <td>7</td>\n",
       "    </tr>\n",
       "    <tr>\n",
       "      <td>330</td>\n",
       "      <td>2002</td>\n",
       "      <td>SF</td>\n",
       "      <td>5</td>\n",
       "    </tr>\n",
       "    <tr>\n",
       "      <td>331</td>\n",
       "      <td>2002</td>\n",
       "      <td>SH</td>\n",
       "      <td>9</td>\n",
       "    </tr>\n",
       "  </tbody>\n",
       "</table>\n",
       "<p>332 rows × 3 columns</p>\n",
       "</div>"
      ],
      "text/plain": [
       "     year species_id  counts\n",
       "0    1977         DM     181\n",
       "1    1977         DO      12\n",
       "2    1977         DS      29\n",
       "3    1977         OL       1\n",
       "4    1977         OX       2\n",
       "..    ...        ...     ...\n",
       "327  2002         PP     375\n",
       "328  2002         RM      20\n",
       "329  2002         RO       7\n",
       "330  2002         SF       5\n",
       "331  2002         SH       9\n",
       "\n",
       "[332 rows x 3 columns]"
      ]
     },
     "execution_count": 60,
     "metadata": {},
     "output_type": "execute_result"
    }
   ],
   "source": [
    "yearly_counts = yearly_counts.reset_index(name='counts')\n",
    "yearly_counts"
   ]
  },
  {
   "cell_type": "code",
   "execution_count": 61,
   "metadata": {},
   "outputs": [
    {
     "ename": "NameError",
     "evalue": "name 'p9' is not defined",
     "output_type": "error",
     "traceback": [
      "\u001b[1;31m---------------------------------------------------------------------------\u001b[0m",
      "\u001b[1;31mNameError\u001b[0m                                 Traceback (most recent call last)",
      "\u001b[1;32m<ipython-input-61-c13a44e138b0>\u001b[0m in \u001b[0;36m<module>\u001b[1;34m\u001b[0m\n\u001b[1;32m----> 1\u001b[1;33m (p9.ggplot(data=yearly_counts,\n\u001b[0m\u001b[0;32m      2\u001b[0m            mapping=p9.aes(x='year',\n\u001b[0;32m      3\u001b[0m                           y='counts'))\n\u001b[0;32m      4\u001b[0m     \u001b[1;33m+\u001b[0m \u001b[0mp9\u001b[0m\u001b[1;33m.\u001b[0m\u001b[0mgeom_line\u001b[0m\u001b[1;33m(\u001b[0m\u001b[1;33m)\u001b[0m\u001b[1;33m\u001b[0m\u001b[1;33m\u001b[0m\u001b[0m\n\u001b[0;32m      5\u001b[0m )\n",
      "\u001b[1;31mNameError\u001b[0m: name 'p9' is not defined"
     ]
    }
   ],
   "source": [
    "(p9.ggplot(data=yearly_counts,\n",
    "           mapping=p9.aes(x='year',\n",
    "                          y='counts'))\n",
    "    + p9.geom_line()\n",
    ")"
   ]
  },
  {
   "cell_type": "code",
   "execution_count": 62,
   "metadata": {},
   "outputs": [
    {
     "ename": "NameError",
     "evalue": "name 'p9' is not defined",
     "output_type": "error",
     "traceback": [
      "\u001b[1;31m---------------------------------------------------------------------------\u001b[0m",
      "\u001b[1;31mNameError\u001b[0m                                 Traceback (most recent call last)",
      "\u001b[1;32m<ipython-input-62-fd8d7fe6588a>\u001b[0m in \u001b[0;36m<module>\u001b[1;34m\u001b[0m\n\u001b[1;32m----> 1\u001b[1;33m (p9.ggplot(data=yearly_counts,\n\u001b[0m\u001b[0;32m      2\u001b[0m            mapping=p9.aes(x='year',\n\u001b[0;32m      3\u001b[0m                           \u001b[0my\u001b[0m\u001b[1;33m=\u001b[0m\u001b[1;34m'counts'\u001b[0m\u001b[1;33m,\u001b[0m\u001b[1;33m\u001b[0m\u001b[1;33m\u001b[0m\u001b[0m\n\u001b[0;32m      4\u001b[0m                           color='species_id'))\n\u001b[0;32m      5\u001b[0m     \u001b[1;33m+\u001b[0m \u001b[0mp9\u001b[0m\u001b[1;33m.\u001b[0m\u001b[0mgeom_line\u001b[0m\u001b[1;33m(\u001b[0m\u001b[1;33m)\u001b[0m\u001b[1;33m\u001b[0m\u001b[1;33m\u001b[0m\u001b[0m\n",
      "\u001b[1;31mNameError\u001b[0m: name 'p9' is not defined"
     ]
    }
   ],
   "source": [
    "(p9.ggplot(data=yearly_counts,\n",
    "           mapping=p9.aes(x='year',\n",
    "                          y='counts',\n",
    "                          color='species_id'))\n",
    "    + p9.geom_line()\n",
    ")"
   ]
  },
  {
   "cell_type": "code",
   "execution_count": 63,
   "metadata": {},
   "outputs": [
    {
     "ename": "NameError",
     "evalue": "name 'p9' is not defined",
     "output_type": "error",
     "traceback": [
      "\u001b[1;31m---------------------------------------------------------------------------\u001b[0m",
      "\u001b[1;31mNameError\u001b[0m                                 Traceback (most recent call last)",
      "\u001b[1;32m<ipython-input-63-98aaf5d9415b>\u001b[0m in \u001b[0;36m<module>\u001b[1;34m\u001b[0m\n\u001b[1;32m----> 1\u001b[1;33m (p9.ggplot(data=surveys_complete,\n\u001b[0m\u001b[0;32m      2\u001b[0m            mapping=p9.aes(x='weight',\n\u001b[0;32m      3\u001b[0m                           \u001b[0my\u001b[0m\u001b[1;33m=\u001b[0m\u001b[1;34m'hindfoot_length'\u001b[0m\u001b[1;33m,\u001b[0m\u001b[1;33m\u001b[0m\u001b[1;33m\u001b[0m\u001b[0m\n\u001b[0;32m      4\u001b[0m                           color='species_id'))\n\u001b[0;32m      5\u001b[0m     \u001b[1;33m+\u001b[0m \u001b[0mp9\u001b[0m\u001b[1;33m.\u001b[0m\u001b[0mgeom_point\u001b[0m\u001b[1;33m(\u001b[0m\u001b[0malpha\u001b[0m\u001b[1;33m=\u001b[0m\u001b[1;36m0.1\u001b[0m\u001b[1;33m)\u001b[0m\u001b[1;33m\u001b[0m\u001b[1;33m\u001b[0m\u001b[0m\n",
      "\u001b[1;31mNameError\u001b[0m: name 'p9' is not defined"
     ]
    }
   ],
   "source": [
    "(p9.ggplot(data=surveys_complete,\n",
    "           mapping=p9.aes(x='weight',\n",
    "                          y='hindfoot_length',\n",
    "                          color='species_id'))\n",
    "    + p9.geom_point(alpha=0.1)\n",
    ")"
   ]
  },
  {
   "cell_type": "code",
   "execution_count": 64,
   "metadata": {},
   "outputs": [
    {
     "ename": "NameError",
     "evalue": "name 'p9' is not defined",
     "output_type": "error",
     "traceback": [
      "\u001b[1;31m---------------------------------------------------------------------------\u001b[0m",
      "\u001b[1;31mNameError\u001b[0m                                 Traceback (most recent call last)",
      "\u001b[1;32m<ipython-input-64-1519ec5f6c24>\u001b[0m in \u001b[0;36m<module>\u001b[1;34m\u001b[0m\n\u001b[0;32m      4\u001b[0m                           color='species_id'))\n\u001b[0;32m      5\u001b[0m     \u001b[1;33m+\u001b[0m \u001b[0mp9\u001b[0m\u001b[1;33m.\u001b[0m\u001b[0mgeom_point\u001b[0m\u001b[1;33m(\u001b[0m\u001b[0malpha\u001b[0m\u001b[1;33m=\u001b[0m\u001b[1;36m0.1\u001b[0m\u001b[1;33m)\u001b[0m\u001b[1;33m\u001b[0m\u001b[1;33m\u001b[0m\u001b[0m\n\u001b[1;32m----> 6\u001b[1;33m     \u001b[1;33m+\u001b[0m \u001b[0mp9\u001b[0m\u001b[1;33m.\u001b[0m\u001b[0mfacet_wrap\u001b[0m\u001b[1;33m(\u001b[0m\u001b[1;34m\"sex\"\u001b[0m\u001b[1;33m)\u001b[0m\u001b[1;33m\u001b[0m\u001b[1;33m\u001b[0m\u001b[0m\n\u001b[0m\u001b[0;32m      7\u001b[0m )\n",
      "\u001b[1;31mNameError\u001b[0m: name 'p9' is not defined"
     ]
    }
   ],
   "source": [
    "(p9.ggplot(data=surveys_complete,\n",
    "           mapping=p9.aes(x='weight',\n",
    "                          y='hindfoot_length',\n",
    "                          color='species_id'))\n",
    "    + p9.geom_point(alpha=0.1)\n",
    "    + p9.facet_wrap(\"sex\")\n",
    ")"
   ]
  },
  {
   "cell_type": "code",
   "execution_count": 65,
   "metadata": {},
   "outputs": [
    {
     "ename": "NameError",
     "evalue": "name 'p9' is not defined",
     "output_type": "error",
     "traceback": [
      "\u001b[1;31m---------------------------------------------------------------------------\u001b[0m",
      "\u001b[1;31mNameError\u001b[0m                                 Traceback (most recent call last)",
      "\u001b[1;32m<ipython-input-65-09007bdd557f>\u001b[0m in \u001b[0;36m<module>\u001b[1;34m\u001b[0m\n\u001b[0;32m      4\u001b[0m                           color='species_id'))\n\u001b[0;32m      5\u001b[0m     \u001b[1;33m+\u001b[0m \u001b[0mp9\u001b[0m\u001b[1;33m.\u001b[0m\u001b[0mgeom_point\u001b[0m\u001b[1;33m(\u001b[0m\u001b[0malpha\u001b[0m\u001b[1;33m=\u001b[0m\u001b[1;36m0.1\u001b[0m\u001b[1;33m)\u001b[0m\u001b[1;33m\u001b[0m\u001b[1;33m\u001b[0m\u001b[0m\n\u001b[1;32m----> 6\u001b[1;33m     \u001b[1;33m+\u001b[0m \u001b[0mp9\u001b[0m\u001b[1;33m.\u001b[0m\u001b[0mfacet_wrap\u001b[0m\u001b[1;33m(\u001b[0m\u001b[1;34m\"plot_id\"\u001b[0m\u001b[1;33m)\u001b[0m\u001b[1;33m\u001b[0m\u001b[1;33m\u001b[0m\u001b[0m\n\u001b[0m\u001b[0;32m      7\u001b[0m )\n",
      "\u001b[1;31mNameError\u001b[0m: name 'p9' is not defined"
     ]
    }
   ],
   "source": [
    "(p9.ggplot(data=surveys_complete,\n",
    "           mapping=p9.aes(x='weight',\n",
    "                          y='hindfoot_length',\n",
    "                          color='species_id'))\n",
    "    + p9.geom_point(alpha=0.1)\n",
    "    + p9.facet_wrap(\"plot_id\")\n",
    ")"
   ]
  },
  {
   "cell_type": "code",
   "execution_count": 66,
   "metadata": {},
   "outputs": [
    {
     "ename": "NameError",
     "evalue": "name 'p9' is not defined",
     "output_type": "error",
     "traceback": [
      "\u001b[1;31m---------------------------------------------------------------------------\u001b[0m",
      "\u001b[1;31mNameError\u001b[0m                                 Traceback (most recent call last)",
      "\u001b[1;32m<ipython-input-66-a83c8faff67f>\u001b[0m in \u001b[0;36m<module>\u001b[1;34m\u001b[0m\n\u001b[0;32m      7\u001b[0m                           color='species_id'))\n\u001b[0;32m      8\u001b[0m     \u001b[1;33m+\u001b[0m \u001b[0mp9\u001b[0m\u001b[1;33m.\u001b[0m\u001b[0mgeom_point\u001b[0m\u001b[1;33m(\u001b[0m\u001b[0malpha\u001b[0m\u001b[1;33m=\u001b[0m\u001b[1;36m0.1\u001b[0m\u001b[1;33m)\u001b[0m\u001b[1;33m\u001b[0m\u001b[1;33m\u001b[0m\u001b[0m\n\u001b[1;32m----> 9\u001b[1;33m     \u001b[1;33m+\u001b[0m \u001b[0mp9\u001b[0m\u001b[1;33m.\u001b[0m\u001b[0mfacet_grid\u001b[0m\u001b[1;33m(\u001b[0m\u001b[1;34m\"year ~ sex\"\u001b[0m\u001b[1;33m)\u001b[0m\u001b[1;33m\u001b[0m\u001b[1;33m\u001b[0m\u001b[0m\n\u001b[0m\u001b[0;32m     10\u001b[0m )\n",
      "\u001b[1;31mNameError\u001b[0m: name 'p9' is not defined"
     ]
    }
   ],
   "source": [
    "# only select the years of interest\n",
    "survey_2000 = surveys_complete[surveys_complete[\"year\"].isin([2000, 2001])]\n",
    "\n",
    "(p9.ggplot(data=survey_2000,\n",
    "           mapping=p9.aes(x='weight',\n",
    "                          y='hindfoot_length',\n",
    "                          color='species_id'))\n",
    "    + p9.geom_point(alpha=0.1)\n",
    "    + p9.facet_grid(\"year ~ sex\")\n",
    ")"
   ]
  },
  {
   "cell_type": "code",
   "execution_count": 67,
   "metadata": {},
   "outputs": [
    {
     "ename": "NameError",
     "evalue": "name 'p9' is not defined",
     "output_type": "error",
     "traceback": [
      "\u001b[1;31m---------------------------------------------------------------------------\u001b[0m",
      "\u001b[1;31mNameError\u001b[0m                                 Traceback (most recent call last)",
      "\u001b[1;32m<ipython-input-67-ad79c9edb0a0>\u001b[0m in \u001b[0;36m<module>\u001b[1;34m\u001b[0m\n\u001b[1;32m----> 1\u001b[1;33m (p9.ggplot(data=surveys_complete,\n\u001b[0m\u001b[0;32m      2\u001b[0m            mapping=p9.aes(x='factor(year)'))\n\u001b[0;32m      3\u001b[0m     \u001b[1;33m+\u001b[0m \u001b[0mp9\u001b[0m\u001b[1;33m.\u001b[0m\u001b[0mgeom_bar\u001b[0m\u001b[1;33m(\u001b[0m\u001b[1;33m)\u001b[0m\u001b[1;33m\u001b[0m\u001b[1;33m\u001b[0m\u001b[0m\n\u001b[0;32m      4\u001b[0m )\n",
      "\u001b[1;31mNameError\u001b[0m: name 'p9' is not defined"
     ]
    }
   ],
   "source": [
    "(p9.ggplot(data=surveys_complete,\n",
    "           mapping=p9.aes(x='factor(year)'))\n",
    "    + p9.geom_bar()\n",
    ")"
   ]
  },
  {
   "cell_type": "code",
   "execution_count": 68,
   "metadata": {},
   "outputs": [
    {
     "ename": "NameError",
     "evalue": "name 'p9' is not defined",
     "output_type": "error",
     "traceback": [
      "\u001b[1;31m---------------------------------------------------------------------------\u001b[0m",
      "\u001b[1;31mNameError\u001b[0m                                 Traceback (most recent call last)",
      "\u001b[1;32m<ipython-input-68-463221957f8f>\u001b[0m in \u001b[0;36m<module>\u001b[1;34m\u001b[0m\n\u001b[0;32m      3\u001b[0m     \u001b[1;33m+\u001b[0m \u001b[0mp9\u001b[0m\u001b[1;33m.\u001b[0m\u001b[0mgeom_bar\u001b[0m\u001b[1;33m(\u001b[0m\u001b[1;33m)\u001b[0m\u001b[1;33m\u001b[0m\u001b[1;33m\u001b[0m\u001b[0m\n\u001b[0;32m      4\u001b[0m     \u001b[1;33m+\u001b[0m \u001b[0mp9\u001b[0m\u001b[1;33m.\u001b[0m\u001b[0mtheme_bw\u001b[0m\u001b[1;33m(\u001b[0m\u001b[1;33m)\u001b[0m\u001b[1;33m\u001b[0m\u001b[1;33m\u001b[0m\u001b[0m\n\u001b[1;32m----> 5\u001b[1;33m     \u001b[1;33m+\u001b[0m \u001b[0mp9\u001b[0m\u001b[1;33m.\u001b[0m\u001b[0mtheme\u001b[0m\u001b[1;33m(\u001b[0m\u001b[0maxis_text_x\u001b[0m \u001b[1;33m=\u001b[0m \u001b[0mp9\u001b[0m\u001b[1;33m.\u001b[0m\u001b[0melement_text\u001b[0m\u001b[1;33m(\u001b[0m\u001b[0mangle\u001b[0m\u001b[1;33m=\u001b[0m\u001b[1;36m90\u001b[0m\u001b[1;33m)\u001b[0m\u001b[1;33m)\u001b[0m\u001b[1;33m\u001b[0m\u001b[1;33m\u001b[0m\u001b[0m\n\u001b[0m\u001b[0;32m      6\u001b[0m )\n",
      "\u001b[1;31mNameError\u001b[0m: name 'p9' is not defined"
     ]
    }
   ],
   "source": [
    "(p9.ggplot(data=surveys_complete,\n",
    "           mapping=p9.aes(x='factor(year)'))\n",
    "    + p9.geom_bar()\n",
    "    + p9.theme_bw()\n",
    "    + p9.theme(axis_text_x = p9.element_text(angle=90))\n",
    ")"
   ]
  },
  {
   "cell_type": "code",
   "execution_count": 69,
   "metadata": {},
   "outputs": [
    {
     "ename": "NameError",
     "evalue": "name 'p9' is not defined",
     "output_type": "error",
     "traceback": [
      "\u001b[1;31m---------------------------------------------------------------------------\u001b[0m",
      "\u001b[1;31mNameError\u001b[0m                                 Traceback (most recent call last)",
      "\u001b[1;32m<ipython-input-69-747d5a9e1df4>\u001b[0m in \u001b[0;36m<module>\u001b[1;34m\u001b[0m\n\u001b[1;32m----> 1\u001b[1;33m my_custom_theme = p9.theme(axis_text_x = p9.element_text(color=\"grey\", size=10,\n\u001b[0m\u001b[0;32m      2\u001b[0m                                                          angle=90, hjust=.5),\n\u001b[0;32m      3\u001b[0m                            axis_text_y = p9.element_text(color=\"grey\", size=10))\n\u001b[0;32m      4\u001b[0m (p9.ggplot(data=surveys_complete,\n\u001b[0;32m      5\u001b[0m            mapping=p9.aes(x='factor(year)'))\n",
      "\u001b[1;31mNameError\u001b[0m: name 'p9' is not defined"
     ]
    }
   ],
   "source": [
    "my_custom_theme = p9.theme(axis_text_x = p9.element_text(color=\"grey\", size=10,\n",
    "                                                         angle=90, hjust=.5),\n",
    "                           axis_text_y = p9.element_text(color=\"grey\", size=10))\n",
    "(p9.ggplot(data=surveys_complete,\n",
    "           mapping=p9.aes(x='factor(year)'))\n",
    "    + p9.geom_bar()\n",
    "    + my_custom_theme\n",
    ")"
   ]
  },
  {
   "cell_type": "code",
   "execution_count": 70,
   "metadata": {},
   "outputs": [
    {
     "ename": "NameError",
     "evalue": "name 'p9' is not defined",
     "output_type": "error",
     "traceback": [
      "\u001b[1;31m---------------------------------------------------------------------------\u001b[0m",
      "\u001b[1;31mNameError\u001b[0m                                 Traceback (most recent call last)",
      "\u001b[1;32m<ipython-input-70-cae52826a375>\u001b[0m in \u001b[0;36m<module>\u001b[1;34m\u001b[0m\n\u001b[1;32m----> 1\u001b[1;33m my_plot = (p9.ggplot(data=surveys_complete,\n\u001b[0m\u001b[0;32m      2\u001b[0m            mapping=p9.aes(x='weight', y='hindfoot_length'))\n\u001b[0;32m      3\u001b[0m     \u001b[1;33m+\u001b[0m \u001b[0mp9\u001b[0m\u001b[1;33m.\u001b[0m\u001b[0mgeom_point\u001b[0m\u001b[1;33m(\u001b[0m\u001b[1;33m)\u001b[0m\u001b[1;33m\u001b[0m\u001b[1;33m\u001b[0m\u001b[0m\n\u001b[0;32m      4\u001b[0m )\n\u001b[0;32m      5\u001b[0m \u001b[0mmy_plot\u001b[0m\u001b[1;33m.\u001b[0m\u001b[0msave\u001b[0m\u001b[1;33m(\u001b[0m\u001b[1;34m\"scatterplot.png\"\u001b[0m\u001b[1;33m,\u001b[0m \u001b[0mwidth\u001b[0m\u001b[1;33m=\u001b[0m\u001b[1;36m10\u001b[0m\u001b[1;33m,\u001b[0m \u001b[0mheight\u001b[0m\u001b[1;33m=\u001b[0m\u001b[1;36m10\u001b[0m\u001b[1;33m,\u001b[0m \u001b[0mdpi\u001b[0m\u001b[1;33m=\u001b[0m\u001b[1;36m300\u001b[0m\u001b[1;33m)\u001b[0m\u001b[1;33m\u001b[0m\u001b[1;33m\u001b[0m\u001b[0m\n",
      "\u001b[1;31mNameError\u001b[0m: name 'p9' is not defined"
     ]
    }
   ],
   "source": [
    "my_plot = (p9.ggplot(data=surveys_complete,\n",
    "           mapping=p9.aes(x='weight', y='hindfoot_length'))\n",
    "    + p9.geom_point()\n",
    ")\n",
    "my_plot.save(\"scatterplot.png\", width=10, height=10, dpi=300)"
   ]
  }
 ],
 "metadata": {
  "kernelspec": {
   "display_name": "Python 3",
   "language": "python",
   "name": "python3"
  },
  "language_info": {
   "codemirror_mode": {
    "name": "ipython",
    "version": 3
   },
   "file_extension": ".py",
   "mimetype": "text/x-python",
   "name": "python",
   "nbconvert_exporter": "python",
   "pygments_lexer": "ipython3",
   "version": "3.7.4"
  }
 },
 "nbformat": 4,
 "nbformat_minor": 2
}
